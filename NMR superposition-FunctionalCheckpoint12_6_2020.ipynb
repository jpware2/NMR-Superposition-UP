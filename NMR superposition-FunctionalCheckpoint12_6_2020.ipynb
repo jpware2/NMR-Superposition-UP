{
 "cells": [
  {
   "cell_type": "code",
   "execution_count": 1,
   "metadata": {},
   "outputs": [],
   "source": [
    "#NMR superposition \n",
    "#Version 1.0.0\n",
    "\n",
    "######USE NOTES######\n",
    "# File type must be in CSV format with no titles.\n",
    "# To obtain this from spinworks:\n",
    "#    -Export spectrum as txt file, and replace (double space) with comma\n",
    "#    -Delete the first line of file, so it starts with the first data point\n",
    "#    -Rename file as \"name\".csv and choose \"all file types\"\n",
    "# Select Ligand Data set first for labeling purposes. \n",
    "# Email warej21@up.edu with questions\n",
    "\n",
    "######Release Notes######\n",
    "# -1.0.0 - autoscale functionality working. Adjust the buffer to the left or right in \"HARD SETTINGS\" with var \"BUFF\"\n",
    "\n",
    "######TO-DO List######\n",
    "# -Label Maximums\n",
    "# -Arrow showing "
   ]
  },
  {
   "cell_type": "code",
   "execution_count": 2,
   "metadata": {},
   "outputs": [],
   "source": [
    "import numpy as np\n",
    "import pandas as pd\n",
    "from tkinter import Tk\n",
    "from tkinter.filedialog import askopenfilename\n",
    "import os\n",
    "import matplotlib.pyplot as plt\n",
    "\n",
    "import tkinter\n",
    "\n",
    "import matplotlib.animation as animation\n",
    "from matplotlib.backend_bases import key_press_handler\n",
    "from matplotlib.backends.backend_tkagg import (\n",
    "    FigureCanvasTkAgg, NavigationToolbar2Tk)\n",
    "from matplotlib.figure import Figure"
   ]
  },
  {
   "cell_type": "code",
   "execution_count": 3,
   "metadata": {},
   "outputs": [],
   "source": [
    "###HARD SETTINGS###\n",
    "BUFF=.3"
   ]
  },
  {
   "cell_type": "code",
   "execution_count": 4,
   "metadata": {
    "scrolled": false
   },
   "outputs": [],
   "source": [
    "Tk().withdraw()\n",
    "filename1=askopenfilename(filetypes=[(\"CVS files\", \"*.csv\")])\n",
    "filename2=askopenfilename(filetypes=[(\"CVS files\", \"*.csv\")])"
   ]
  },
  {
   "cell_type": "code",
   "execution_count": 5,
   "metadata": {},
   "outputs": [],
   "source": [
    "DF1=pd.read_csv(filename1)\n",
    "DF2=pd.read_csv(filename2)"
   ]
  },
  {
   "cell_type": "code",
   "execution_count": 6,
   "metadata": {},
   "outputs": [],
   "source": [
    "#######"
   ]
  },
  {
   "cell_type": "code",
   "execution_count": 7,
   "metadata": {},
   "outputs": [],
   "source": [
    "def _getMax(DFin):\n",
    "    if DFin is DF1:\n",
    "        DFx, DFy = np.loadtxt(filename1, usecols=[0, 1],\n",
    "                      unpack=True, delimiter=',')\n",
    "    else:\n",
    "        DFx, DFy = np.loadtxt(filename2, usecols=[0, 1],\n",
    "                      unpack=True, delimiter=',')\n",
    "    DFmax=DFy.max()\n",
    "    DFxList=DFx.tolist()\n",
    "    DFyList=DFy.tolist()\n",
    "    Index=DFyList.index(DFmax)\n",
    "    XMax=DFxList[Index]\n",
    "    return XMax"
   ]
  },
  {
   "cell_type": "code",
   "execution_count": 8,
   "metadata": {},
   "outputs": [],
   "source": [
    "def _compareLow(val1,val2):\n",
    "    if val1>val2:\n",
    "        return val2\n",
    "    elif val1<val2:\n",
    "        return val1\n",
    "    else:\n",
    "        return \"ERROR\""
   ]
  },
  {
   "cell_type": "code",
   "execution_count": 9,
   "metadata": {},
   "outputs": [],
   "source": [
    "def _compareHigh(val1,val2):\n",
    "    if val1>val2:\n",
    "        return val1\n",
    "    elif val1<val2:\n",
    "        return val2\n",
    "    else:\n",
    "        return \"ERROR\""
   ]
  },
  {
   "cell_type": "code",
   "execution_count": 10,
   "metadata": {},
   "outputs": [],
   "source": [
    "def _getScaleFactor():\n",
    "    global MaxDF1, MaxDF2\n",
    "    diff = abs(MaxDF1-MaxDF2)\n",
    "    scaleFactor = diff*BUFF\n",
    "    return scaleFactor"
   ]
  },
  {
   "cell_type": "code",
   "execution_count": 11,
   "metadata": {},
   "outputs": [],
   "source": [
    "def _getLL():\n",
    "    global MaxDF1, MaxDF2, scaleFactor\n",
    "    Lmax=_compareLow(MaxDF1,MaxDF2)\n",
    "    LL=Lmax-scaleFactor\n",
    "    return LL"
   ]
  },
  {
   "cell_type": "code",
   "execution_count": 12,
   "metadata": {},
   "outputs": [],
   "source": [
    "def _getRL():\n",
    "    global MaxDF1, MaxDF2, scaleFactor\n",
    "    Rmax=_compareHigh(MaxDF1,MaxDF2)\n",
    "    RL=Rmax+scaleFactor\n",
    "    return RL"
   ]
  },
  {
   "cell_type": "code",
   "execution_count": 13,
   "metadata": {},
   "outputs": [
    {
     "name": "stdout",
     "output_type": "stream",
     "text": [
      "-50.40905\n"
     ]
    }
   ],
   "source": [
    "MaxDF1=_getMax(DF1)"
   ]
  },
  {
   "cell_type": "code",
   "execution_count": 14,
   "metadata": {},
   "outputs": [
    {
     "name": "stdout",
     "output_type": "stream",
     "text": [
      "2.86593\n"
     ]
    }
   ],
   "source": [
    "MaxDF2=_getMax(DF2)"
   ]
  },
  {
   "cell_type": "code",
   "execution_count": 15,
   "metadata": {},
   "outputs": [
    {
     "name": "stdout",
     "output_type": "stream",
     "text": [
      "15.982493999999999\n"
     ]
    }
   ],
   "source": [
    "scaleFactor=_getScaleFactor()"
   ]
  },
  {
   "cell_type": "code",
   "execution_count": 16,
   "metadata": {},
   "outputs": [
    {
     "name": "stdout",
     "output_type": "stream",
     "text": [
      "-66.391544\n"
     ]
    }
   ],
   "source": [
    "RL=_getLL()"
   ]
  },
  {
   "cell_type": "code",
   "execution_count": 17,
   "metadata": {},
   "outputs": [
    {
     "name": "stdout",
     "output_type": "stream",
     "text": [
      "18.848423999999998\n"
     ]
    }
   ],
   "source": [
    "LL=_getRL()"
   ]
  },
  {
   "cell_type": "code",
   "execution_count": 18,
   "metadata": {},
   "outputs": [],
   "source": [
    "####"
   ]
  },
  {
   "cell_type": "code",
   "execution_count": 19,
   "metadata": {},
   "outputs": [],
   "source": [
    "root = tkinter.Tk()\n",
    "root.wm_title(\"NMR Overlay\")\n",
    "current_list = ['Ligand', 'Coordinated']"
   ]
  },
  {
   "cell_type": "code",
   "execution_count": 20,
   "metadata": {},
   "outputs": [],
   "source": [
    "fig = Figure(figsize=(2, 3), dpi=100)\n",
    "ax = fig.add_subplot(111)"
   ]
  },
  {
   "cell_type": "code",
   "execution_count": 21,
   "metadata": {},
   "outputs": [],
   "source": [
    "for item in current_list:\n",
    "    if item is \"Ligand\":\n",
    "        x1, y1 = np.loadtxt(filename1, usecols=[0, 1],\n",
    "                      unpack=True, delimiter=',')\n",
    "        #invx1= np.flip(x1)\n",
    "        ax.plot(x1, y1, label=\"Ligand\")\n",
    "    elif item is \"Coordinated\":\n",
    "        x2, y2 = np.loadtxt(filename2, usecols=[0, 1],\n",
    "                      unpack=True, delimiter=',')\n",
    "        #invx2=np.flip(x2)\n",
    "        ax.plot(x2, y2, label=\"Coordinated\")"
   ]
  },
  {
   "cell_type": "code",
   "execution_count": 22,
   "metadata": {},
   "outputs": [],
   "source": [
    "fig.legend()\n",
    "\n",
    "ax.set_xlim(LL,RL)\n",
    "ax.yaxis.set_visible(False)\n",
    "\n",
    "canvas = FigureCanvasTkAgg(fig, master=root)\n",
    "canvas.draw()\n",
    "canvas.get_tk_widget().pack(side=tkinter.TOP, fill=tkinter.BOTH, expand=1)\n",
    "\n",
    "toolbar = NavigationToolbar2Tk(canvas, root)\n",
    "toolbar.update()\n",
    "canvas.get_tk_widget().pack(side=tkinter.TOP, fill=tkinter.BOTH, expand=1)"
   ]
  },
  {
   "cell_type": "code",
   "execution_count": 23,
   "metadata": {},
   "outputs": [],
   "source": [
    "def on_key_press(event):\n",
    "    print(\"you pressed {}\".format(event.key))\n",
    "    key_press_handler(event, canvas, toolbar)\n",
    "\n",
    "    canvas.mpl_connect(\"key_press_event\", on_key_press)"
   ]
  },
  {
   "cell_type": "code",
   "execution_count": 24,
   "metadata": {},
   "outputs": [],
   "source": [
    "def _quit():\n",
    "    root.quit()\n",
    "    root.destroy()"
   ]
  },
  {
   "cell_type": "code",
   "execution_count": 25,
   "metadata": {},
   "outputs": [],
   "source": [
    "#def _scale(lFactor,rFactor):\n",
    " #   global lLim\n",
    "  #  global rLim\n",
    "   # lLim+=lFactor\n",
    "    #rLim+=rFactor"
   ]
  },
  {
   "cell_type": "code",
   "execution_count": 26,
   "metadata": {},
   "outputs": [],
   "source": [
    "#L50=_scale(50,0)\n",
    "#LN50=_scale(-50,0)"
   ]
  },
  {
   "cell_type": "code",
   "execution_count": 27,
   "metadata": {},
   "outputs": [],
   "source": [
    "quitButton = tkinter.Button(master=root, text=\"Quit\", command=_quit)\n",
    "quitButton.pack(side=tkinter.BOTTOM)\n",
    "\n",
    "#L50Button = tkinter.Button(master=root, text='L50', command=lambda:L50)\n",
    "#L50Button.pack(side=tkinter.BOTTOM)\n",
    "\n",
    "#LN50Button = tkinter.Button(master=root, text='LN50', command=lambda:LN50)\n",
    "#LN50Button.pack(side=tkinter.BOTTOM)\n",
    "\n",
    "tkinter.mainloop()"
   ]
  }
 ],
 "metadata": {
  "kernelspec": {
   "display_name": "Python 3",
   "language": "python",
   "name": "python3"
  },
  "language_info": {
   "codemirror_mode": {
    "name": "ipython",
    "version": 3
   },
   "file_extension": ".py",
   "mimetype": "text/x-python",
   "name": "python",
   "nbconvert_exporter": "python",
   "pygments_lexer": "ipython3",
   "version": "3.7.3"
  }
 },
 "nbformat": 4,
 "nbformat_minor": 2
}
