{
 "cells": [
  {
   "cell_type": "code",
   "execution_count": 1,
   "metadata": {},
   "outputs": [],
   "source": [
    "#NMR superposition \n",
    "#Version 1.0.1\n",
    "\n",
    "######USE NOTES######\n",
    "# File type must be in CSV format with no titles.\n",
    "# To obtain this from spinworks:\n",
    "#    -Export spectrum as txt file, and replace (double space) with comma\n",
    "#    -Delete the first line of file, so it starts with the first data point\n",
    "#    -Rename file as \"name\".csv and choose \"all file types\"\n",
    "# Select Ligand Data set first for labeling purposes. \n",
    "# Email warej21@up.edu with questions\n",
    "\n",
    "######Release Notes######\n",
    "# -1.0.0 - autoscale functionality working. Adjust the buffer to the left or right in \"HARD SETTINGS\" with var \"BUFF\"\n",
    "# -1.0.1 - Auto Labeled Maximums\n",
    "#        - Added Settings:\n",
    "#            - Vertical Y axis modifications\n",
    "#            - Line width\n",
    "#            - Match Scale of Y axes\n",
    "\n",
    "######TO-DO List######\n",
    "# - Arrow showing shift\n",
    "# - Fix flip-flopped LL/RL dictionaries"
   ]
  },
  {
   "cell_type": "code",
   "execution_count": 2,
   "metadata": {},
   "outputs": [],
   "source": [
    "import numpy as np\n",
    "import pandas as pd\n",
    "from tkinter import Tk\n",
    "from tkinter.filedialog import askopenfilename\n",
    "import os\n",
    "import matplotlib.pyplot as plt\n",
    "\n",
    "import tkinter\n",
    "\n",
    "import matplotlib.animation as animation\n",
    "from matplotlib.backend_bases import key_press_handler\n",
    "from matplotlib.backends.backend_tkagg import (\n",
    "    FigureCanvasTkAgg, NavigationToolbar2Tk)\n",
    "from matplotlib.figure import Figure"
   ]
  },
  {
   "cell_type": "code",
   "execution_count": 3,
   "metadata": {},
   "outputs": [],
   "source": [
    "###HARD SETTINGS###\n",
    "\n",
    "#Changes the fraction of the chart to the left & right of peaks\n",
    "BUFFER = 0.3\n",
    "\n",
    "#Offsets either the Lig or Coord x axis by vertModFactor\n",
    "vertModLigandY = False\n",
    "vertModCoordinatedY = False\n",
    "\n",
    "vertModFactor = 0.1\n",
    "\n",
    "#Changes the weight of the plotted lines\n",
    "lineWidth = 0.5\n",
    "\n",
    "#Forces the maximum values of both data sets to equal heights\n",
    "matchYMax = False"
   ]
  },
  {
   "cell_type": "code",
   "execution_count": 4,
   "metadata": {
    "scrolled": false
   },
   "outputs": [],
   "source": [
    "Tk().withdraw()\n",
    "filename1=askopenfilename(filetypes=[(\"CVS files\", \"*.csv\")])\n",
    "filename2=askopenfilename(filetypes=[(\"CVS files\", \"*.csv\")])"
   ]
  },
  {
   "cell_type": "code",
   "execution_count": 5,
   "metadata": {},
   "outputs": [],
   "source": [
    "DF1=pd.read_csv(filename1)\n",
    "DF2=pd.read_csv(filename2)"
   ]
  },
  {
   "cell_type": "code",
   "execution_count": 6,
   "metadata": {},
   "outputs": [],
   "source": [
    "#######"
   ]
  },
  {
   "cell_type": "code",
   "execution_count": 7,
   "metadata": {},
   "outputs": [],
   "source": [
    "def _getMax(DFin):\n",
    "    if DFin is DF1:\n",
    "        DFx, DFy = np.loadtxt(filename1, usecols=[0, 1],\n",
    "                      unpack=True, delimiter=',')\n",
    "    else:\n",
    "        DFx, DFy = np.loadtxt(filename2, usecols=[0, 1],\n",
    "                      unpack=True, delimiter=',')\n",
    "    DFmax=DFy.max()\n",
    "    DFxList=DFx.tolist()\n",
    "    DFyList=DFy.tolist()\n",
    "    Index=DFyList.index(DFmax)\n",
    "    XMax=DFxList[Index]\n",
    "    return XMax, DFmax"
   ]
  },
  {
   "cell_type": "code",
   "execution_count": 8,
   "metadata": {},
   "outputs": [],
   "source": [
    "def _compareLow(val1,val2):\n",
    "    if val1>val2:\n",
    "        return val2\n",
    "    elif val1<val2:\n",
    "        return val1\n",
    "    else:\n",
    "        return \"ERROR\""
   ]
  },
  {
   "cell_type": "code",
   "execution_count": 9,
   "metadata": {},
   "outputs": [],
   "source": [
    "def _compareHigh(val1,val2):\n",
    "    if val1>val2:\n",
    "        return val1\n",
    "    elif val1<val2:\n",
    "        return val2\n",
    "    else:\n",
    "        return \"ERROR\""
   ]
  },
  {
   "cell_type": "code",
   "execution_count": 10,
   "metadata": {},
   "outputs": [],
   "source": [
    "def _getScaleFactor():\n",
    "    global XMaxDF1, XMaxDF2\n",
    "    diff = abs(XMaxDF1-XMaxDF2)\n",
    "    scaleFactor = diff*BUFFER\n",
    "    return scaleFactor"
   ]
  },
  {
   "cell_type": "code",
   "execution_count": 11,
   "metadata": {},
   "outputs": [],
   "source": [
    "def _getLL():\n",
    "    global XMaxDF1, XMaxDF2, scaleFactor\n",
    "    Lmax=_compareLow(XMaxDF1,XMaxDF2)\n",
    "    LL=Lmax-scaleFactor\n",
    "    return LL"
   ]
  },
  {
   "cell_type": "code",
   "execution_count": 12,
   "metadata": {},
   "outputs": [],
   "source": [
    "def _getRL():\n",
    "    global XMaxDF1, XMaxDF2, scaleFactor\n",
    "    Rmax=_compareHigh(XMaxDF1,XMaxDF2)\n",
    "    RL=Rmax+scaleFactor\n",
    "    return RL"
   ]
  },
  {
   "cell_type": "code",
   "execution_count": 13,
   "metadata": {},
   "outputs": [],
   "source": [
    "XMaxDF1, YMaxDF1=_getMax(DF1)"
   ]
  },
  {
   "cell_type": "code",
   "execution_count": 14,
   "metadata": {},
   "outputs": [],
   "source": [
    "XMaxDF2, YMaxDF2=_getMax(DF2)"
   ]
  },
  {
   "cell_type": "code",
   "execution_count": 15,
   "metadata": {},
   "outputs": [],
   "source": [
    "scaleFactor=_getScaleFactor()"
   ]
  },
  {
   "cell_type": "code",
   "execution_count": 16,
   "metadata": {},
   "outputs": [],
   "source": [
    "RL=_getLL()"
   ]
  },
  {
   "cell_type": "code",
   "execution_count": 17,
   "metadata": {},
   "outputs": [],
   "source": [
    "LL=_getRL()"
   ]
  },
  {
   "cell_type": "code",
   "execution_count": 18,
   "metadata": {},
   "outputs": [],
   "source": [
    "####"
   ]
  },
  {
   "cell_type": "code",
   "execution_count": 19,
   "metadata": {},
   "outputs": [],
   "source": [
    "root = tkinter.Tk()\n",
    "root.wm_title(\"NMR Overlay\")\n",
    "current_list = ['Ligand', 'Coordinated']"
   ]
  },
  {
   "cell_type": "code",
   "execution_count": 20,
   "metadata": {},
   "outputs": [],
   "source": [
    "fig = Figure(figsize=(2, 3), dpi=100)\n",
    "ax = fig.add_subplot(111)"
   ]
  },
  {
   "cell_type": "code",
   "execution_count": 21,
   "metadata": {},
   "outputs": [
    {
     "name": "stdout",
     "output_type": "stream",
     "text": [
      "7.4859792970898456\n"
     ]
    }
   ],
   "source": [
    "#Settings variables\n",
    "vertMod=_compareHigh(YMaxDF1,XMaxDF1)*vertModFactor\n",
    "scaleMatch= abs(_compareHigh(YMaxDF1,YMaxDF2))/_compareLow(YMaxDF1,YMaxDF2)\n",
    "print(scaleMatch)"
   ]
  },
  {
   "cell_type": "code",
   "execution_count": 22,
   "metadata": {},
   "outputs": [],
   "source": [
    "for item in current_list:\n",
    "    if item is \"Ligand\":\n",
    "        x1, y1 = np.loadtxt(filename1, usecols=[0, 1],\n",
    "                      unpack=True, delimiter=',')\n",
    "        if matchYMax is True and _compareLow(YMaxDF1,YMaxDF2) is YMaxDF1:\n",
    "            y1 *= scaleMatch\n",
    "        #invx1= np.flip(x1)\n",
    "        if vertModLigandY is True:\n",
    "            ax.plot(x1, y1+vertMod, label=\"Ligand\",linewidth=lineWidth)\n",
    "        else:\n",
    "            ax.plot(x1, y1, label=\"Ligand\",linewidth=lineWidth)\n",
    "    elif item is \"Coordinated\":\n",
    "        x2, y2 = np.loadtxt(filename2, usecols=[0, 1],\n",
    "                      unpack=True, delimiter=',')\n",
    "        #invx2=np.flip(x2)\n",
    "        if matchYMax is True and _compareLow(YMaxDF1,YMaxDF2)is YMaxDF2:\n",
    "            y2 *= scaleMatch\n",
    "        if vertModCoordinatedY is True:\n",
    "            ax.plot(x2, y2+vertMod, label=\"Coordinated\",linewidth=lineWidth)\n",
    "        else:\n",
    "            ax.plot(x2, y2, label=\"Coordinated\",linewidth=lineWidth)"
   ]
  },
  {
   "cell_type": "code",
   "execution_count": 23,
   "metadata": {},
   "outputs": [],
   "source": [
    "fig.legend()\n",
    "\n",
    "ax.set_xlim(LL,RL)\n",
    "ax.yaxis.set_visible(False)\n",
    "ax.set_ylim(0,_compareHigh(YMaxDF1,YMaxDF2)*1.5)\n",
    "\n",
    "canvas = FigureCanvasTkAgg(fig, master=root)\n",
    "canvas.draw()\n",
    "canvas.get_tk_widget().pack(side=tkinter.TOP, fill=tkinter.BOTH, expand=1)\n",
    "\n",
    "toolbar = NavigationToolbar2Tk(canvas, root)\n",
    "toolbar.update()\n",
    "canvas.get_tk_widget().pack(side=tkinter.TOP, fill=tkinter.BOTH, expand=1)"
   ]
  },
  {
   "cell_type": "code",
   "execution_count": 24,
   "metadata": {},
   "outputs": [
    {
     "data": {
      "text/plain": [
       "Text(2.86593, 7913899222.379101, '2.86593')"
      ]
     },
     "execution_count": 24,
     "metadata": {},
     "output_type": "execute_result"
    }
   ],
   "source": [
    "#annotations\n",
    "ax.annotate(XMaxDF1, xy=(XMaxDF1, YMaxDF1), xytext=(XMaxDF1, max(y1)+vertMod),ha=\"center\")\n",
    "\n",
    "ax.annotate(XMaxDF2, xy=(XMaxDF2, YMaxDF2), xytext=(XMaxDF2, max(y2)+vertMod),ha=\"center\")"
   ]
  },
  {
   "cell_type": "code",
   "execution_count": 25,
   "metadata": {},
   "outputs": [],
   "source": [
    "def on_key_press(event):\n",
    "    print(\"you pressed {}\".format(event.key))\n",
    "    key_press_handler(event, canvas, toolbar)\n",
    "\n",
    "    canvas.mpl_connect(\"key_press_event\", on_key_press)"
   ]
  },
  {
   "cell_type": "code",
   "execution_count": 26,
   "metadata": {},
   "outputs": [],
   "source": [
    "def _quit():\n",
    "    root.quit()\n",
    "    root.destroy()"
   ]
  },
  {
   "cell_type": "code",
   "execution_count": 27,
   "metadata": {},
   "outputs": [],
   "source": [
    "quitButton = tkinter.Button(master=root, text=\"Quit\", command=_quit)\n",
    "quitButton.pack(side=tkinter.BOTTOM)\n",
    "\n",
    "tkinter.mainloop()"
   ]
  }
 ],
 "metadata": {
  "kernelspec": {
   "display_name": "Python 3",
   "language": "python",
   "name": "python3"
  },
  "language_info": {
   "codemirror_mode": {
    "name": "ipython",
    "version": 3
   },
   "file_extension": ".py",
   "mimetype": "text/x-python",
   "name": "python",
   "nbconvert_exporter": "python",
   "pygments_lexer": "ipython3",
   "version": "3.7.3"
  }
 },
 "nbformat": 4,
 "nbformat_minor": 2
}
